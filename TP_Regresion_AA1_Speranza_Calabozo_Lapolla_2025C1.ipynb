{
  "cells": [
    {
      "cell_type": "code",
      "execution_count": 1,
      "metadata": {
        "id": "UfS9klMysiJe"
      },
      "outputs": [],
      "source": [
        "import pandas as pd\n",
        "import numpy as np\n",
        "\n",
        "import seaborn as sns\n",
        "import matplotlib.pyplot as plt\n",
        "\n",
        "import plotly.express as px\n",
        "import plotly.graph_objects as go\n",
        "import plotly.figure_factory as ff\n",
        "\n",
        "from sklearn.model_selection import train_test_split\n",
        "from sklearn.preprocessing import StandardScaler   # u otros scalers\n",
        "from sklearn.linear_model import LinearRegression, Lasso, Ridge, ElasticNet, LassoCV, RidgeCV, ElasticNetCV\n",
        "from sklearn.metrics import mean_squared_error, r2_score"
      ]
    },
    {
      "cell_type": "code",
      "execution_count": 3,
      "metadata": {
        "colab": {
          "base_uri": "https://localhost:8080/"
        },
        "id": "Etu10JAIsiJk",
        "outputId": "395bb6df-7107-4f29-dda3-f02d1665ece3"
      },
      "outputs": [
        {
          "name": "stderr",
          "output_type": "stream",
          "text": [
            "\"gdown\" no se reconoce como un comando interno o externo,\n",
            "programa o archivo por lotes ejecutable.\n"
          ]
        }
      ],
      "source": [
        "### carga datos de dataset en dataframe\n",
        "!gdown 1p6Vdoq7dxu2-j5d4FpyTTwBQ3zG3Ud6m\n",
        "file_path= 'uber_fares.csv'\n",
        "df = pd.read_csv(file_path)"
      ]
    },
    {
      "cell_type": "markdown",
      "metadata": {
        "id": "xd_uOYe1siJn"
      },
      "source": [
        "#### Contexto  \n",
        "El proyecto trata sobre **Uber Inc.**, la compañía de taxis más grande del mundo. En este trabajo, nuestro objetivo es **predecir la tarifa de futuros viajes**.  \n",
        "\n",
        "Uber brinda servicio a millones de clientes cada día, por lo que gestionar adecuadamente sus datos es clave para desarrollar nuevas estrategias de negocio y obtener mejores resultados.  \n",
        "\n",
        "### Variables del conjunto de datos  \n",
        "\n",
        "**Variables explicativas:**  \n",
        "- **key**: identificador único de cada viaje.  \n",
        "- **pickup_datetime**: fecha y hora en que se inició el viaje.  \n",
        "- **passenger_count**: cantidad de pasajeros en el vehículo (dato ingresado por el conductor).  \n",
        "- **pickup_longitude**: longitud del punto de inicio del viaje.  \n",
        "- **pickup_latitude**: latitud del punto de inicio del viaje.  \n",
        "- **dropoff_longitude**: longitud del punto de destino.  \n",
        "- **dropoff_latitude**: latitud del punto de destino.  \n",
        "\n",
        "**Variable objetivo (target):**  \n",
        "- **fare_amount**: costo del viaje en dólares.  "
      ]
    },
    {
      "cell_type": "code",
      "execution_count": 4,
      "metadata": {
        "colab": {
          "base_uri": "https://localhost:8080/"
        },
        "id": "tf2N8kt_siJp",
        "outputId": "48f86d7a-7f3e-4e2e-c82e-80953b71c3ea"
      },
      "outputs": [
        {
          "data": {
            "text/plain": [
              "Index(['key', 'date', 'fare_amount', 'pickup_datetime', 'pickup_longitude',\n",
              "       'pickup_latitude', 'dropoff_longitude', 'dropoff_latitude',\n",
              "       'passenger_count'],\n",
              "      dtype='object')"
            ]
          },
          "execution_count": 4,
          "metadata": {},
          "output_type": "execute_result"
        }
      ],
      "source": [
        "### Columnas, ¿cuáles son variables numéricas y cuales variables categóricas?\n",
        "df.columns"
      ]
    },
    {
      "cell_type": "code",
      "execution_count": 5,
      "metadata": {
        "colab": {
          "base_uri": "https://localhost:8080/",
          "height": 313
        },
        "id": "Xejwo-utnWxW",
        "outputId": "616646c2-be81-48b2-8d69-d7ab14a73f07"
      },
      "outputs": [
        {
          "data": {
            "application/vnd.microsoft.datawrangler.viewer.v0+json": {
              "columns": [
                {
                  "name": "index",
                  "rawType": "int64",
                  "type": "integer"
                },
                {
                  "name": "key",
                  "rawType": "int64",
                  "type": "integer"
                },
                {
                  "name": "date",
                  "rawType": "object",
                  "type": "string"
                },
                {
                  "name": "fare_amount",
                  "rawType": "float64",
                  "type": "float"
                },
                {
                  "name": "pickup_datetime",
                  "rawType": "object",
                  "type": "string"
                },
                {
                  "name": "pickup_longitude",
                  "rawType": "float64",
                  "type": "float"
                },
                {
                  "name": "pickup_latitude",
                  "rawType": "float64",
                  "type": "float"
                },
                {
                  "name": "dropoff_longitude",
                  "rawType": "float64",
                  "type": "float"
                },
                {
                  "name": "dropoff_latitude",
                  "rawType": "float64",
                  "type": "float"
                },
                {
                  "name": "passenger_count",
                  "rawType": "int64",
                  "type": "integer"
                }
              ],
              "ref": "efe34ad6-6294-464d-b9f7-0bd99dd17e2f",
              "rows": [
                [
                  "0",
                  "24238194",
                  "2015-05-07 19:52:06.0000003",
                  "7.5",
                  "2015-05-07 19:52:06 UTC",
                  "-73.99981689453125",
                  "40.73835372924805",
                  "-73.99951171875",
                  "40.72321701049805",
                  "1"
                ],
                [
                  "1",
                  "27835199",
                  "2009-07-17 20:04:56.0000002",
                  "7.7",
                  "2009-07-17 20:04:56 UTC",
                  "-73.994355",
                  "40.728225",
                  "-73.99471",
                  "40.750325",
                  "1"
                ],
                [
                  "2",
                  "44984355",
                  "2009-08-24 21:45:00.00000061",
                  "12.9",
                  "2009-08-24 21:45:00 UTC",
                  "-74.005043",
                  "40.74077",
                  "-73.962565",
                  "40.772647",
                  "1"
                ],
                [
                  "3",
                  "25894730",
                  "2009-06-26 08:22:21.0000001",
                  "5.3",
                  "2009-06-26 08:22:21 UTC",
                  "-73.976124",
                  "40.790844",
                  "-73.965316",
                  "40.803349",
                  "3"
                ],
                [
                  "4",
                  "17610152",
                  "2014-08-28 17:47:00.000000188",
                  "16.0",
                  "2014-08-28 17:47:00 UTC",
                  "-73.925023",
                  "40.744085",
                  "-73.97308199999999",
                  "40.761247",
                  "5"
                ]
              ],
              "shape": {
                "columns": 9,
                "rows": 5
              }
            },
            "text/html": [
              "<div>\n",
              "<style scoped>\n",
              "    .dataframe tbody tr th:only-of-type {\n",
              "        vertical-align: middle;\n",
              "    }\n",
              "\n",
              "    .dataframe tbody tr th {\n",
              "        vertical-align: top;\n",
              "    }\n",
              "\n",
              "    .dataframe thead th {\n",
              "        text-align: right;\n",
              "    }\n",
              "</style>\n",
              "<table border=\"1\" class=\"dataframe\">\n",
              "  <thead>\n",
              "    <tr style=\"text-align: right;\">\n",
              "      <th></th>\n",
              "      <th>key</th>\n",
              "      <th>date</th>\n",
              "      <th>fare_amount</th>\n",
              "      <th>pickup_datetime</th>\n",
              "      <th>pickup_longitude</th>\n",
              "      <th>pickup_latitude</th>\n",
              "      <th>dropoff_longitude</th>\n",
              "      <th>dropoff_latitude</th>\n",
              "      <th>passenger_count</th>\n",
              "    </tr>\n",
              "  </thead>\n",
              "  <tbody>\n",
              "    <tr>\n",
              "      <th>0</th>\n",
              "      <td>24238194</td>\n",
              "      <td>2015-05-07 19:52:06.0000003</td>\n",
              "      <td>7.5</td>\n",
              "      <td>2015-05-07 19:52:06 UTC</td>\n",
              "      <td>-73.999817</td>\n",
              "      <td>40.738354</td>\n",
              "      <td>-73.999512</td>\n",
              "      <td>40.723217</td>\n",
              "      <td>1</td>\n",
              "    </tr>\n",
              "    <tr>\n",
              "      <th>1</th>\n",
              "      <td>27835199</td>\n",
              "      <td>2009-07-17 20:04:56.0000002</td>\n",
              "      <td>7.7</td>\n",
              "      <td>2009-07-17 20:04:56 UTC</td>\n",
              "      <td>-73.994355</td>\n",
              "      <td>40.728225</td>\n",
              "      <td>-73.994710</td>\n",
              "      <td>40.750325</td>\n",
              "      <td>1</td>\n",
              "    </tr>\n",
              "    <tr>\n",
              "      <th>2</th>\n",
              "      <td>44984355</td>\n",
              "      <td>2009-08-24 21:45:00.00000061</td>\n",
              "      <td>12.9</td>\n",
              "      <td>2009-08-24 21:45:00 UTC</td>\n",
              "      <td>-74.005043</td>\n",
              "      <td>40.740770</td>\n",
              "      <td>-73.962565</td>\n",
              "      <td>40.772647</td>\n",
              "      <td>1</td>\n",
              "    </tr>\n",
              "    <tr>\n",
              "      <th>3</th>\n",
              "      <td>25894730</td>\n",
              "      <td>2009-06-26 08:22:21.0000001</td>\n",
              "      <td>5.3</td>\n",
              "      <td>2009-06-26 08:22:21 UTC</td>\n",
              "      <td>-73.976124</td>\n",
              "      <td>40.790844</td>\n",
              "      <td>-73.965316</td>\n",
              "      <td>40.803349</td>\n",
              "      <td>3</td>\n",
              "    </tr>\n",
              "    <tr>\n",
              "      <th>4</th>\n",
              "      <td>17610152</td>\n",
              "      <td>2014-08-28 17:47:00.000000188</td>\n",
              "      <td>16.0</td>\n",
              "      <td>2014-08-28 17:47:00 UTC</td>\n",
              "      <td>-73.925023</td>\n",
              "      <td>40.744085</td>\n",
              "      <td>-73.973082</td>\n",
              "      <td>40.761247</td>\n",
              "      <td>5</td>\n",
              "    </tr>\n",
              "  </tbody>\n",
              "</table>\n",
              "</div>"
            ],
            "text/plain": [
              "        key                           date  fare_amount  \\\n",
              "0  24238194    2015-05-07 19:52:06.0000003          7.5   \n",
              "1  27835199    2009-07-17 20:04:56.0000002          7.7   \n",
              "2  44984355   2009-08-24 21:45:00.00000061         12.9   \n",
              "3  25894730    2009-06-26 08:22:21.0000001          5.3   \n",
              "4  17610152  2014-08-28 17:47:00.000000188         16.0   \n",
              "\n",
              "           pickup_datetime  pickup_longitude  pickup_latitude  \\\n",
              "0  2015-05-07 19:52:06 UTC        -73.999817        40.738354   \n",
              "1  2009-07-17 20:04:56 UTC        -73.994355        40.728225   \n",
              "2  2009-08-24 21:45:00 UTC        -74.005043        40.740770   \n",
              "3  2009-06-26 08:22:21 UTC        -73.976124        40.790844   \n",
              "4  2014-08-28 17:47:00 UTC        -73.925023        40.744085   \n",
              "\n",
              "   dropoff_longitude  dropoff_latitude  passenger_count  \n",
              "0         -73.999512         40.723217                1  \n",
              "1         -73.994710         40.750325                1  \n",
              "2         -73.962565         40.772647                1  \n",
              "3         -73.965316         40.803349                3  \n",
              "4         -73.973082         40.761247                5  "
            ]
          },
          "execution_count": 5,
          "metadata": {},
          "output_type": "execute_result"
        }
      ],
      "source": [
        "df.head()"
      ]
    },
    {
      "cell_type": "code",
      "execution_count": 6,
      "metadata": {
        "colab": {
          "base_uri": "https://localhost:8080/"
        },
        "id": "4G7p47V_siJq",
        "outputId": "12decd20-043b-4a1d-d34e-6e02e117ac42"
      },
      "outputs": [],
      "source": [
        "#Key - probablemente sacar\n",
        "#Datos faltantes:\n",
        "#dropoff_latitude, dropoff_longitude - falta 1 dato"
      ]
    },
    {
      "cell_type": "code",
      "execution_count": 7,
      "metadata": {
        "colab": {
          "base_uri": "https://localhost:8080/"
        },
        "id": "P_F0f-xop8rd",
        "outputId": "3430cc4e-839e-41a9-90f4-6e8d513b9c0a"
      },
      "outputs": [
        {
          "data": {
            "text/plain": [
              "array(['key', 'date', 'fare_amount', 'pickup_datetime',\n",
              "       'pickup_longitude', 'pickup_latitude', 'dropoff_longitude',\n",
              "       'dropoff_latitude', 'passenger_count'], dtype=object)"
            ]
          },
          "execution_count": 7,
          "metadata": {},
          "output_type": "execute_result"
        }
      ],
      "source": [
        "df.columns.values"
      ]
    },
    {
      "cell_type": "code",
      "execution_count": null,
      "metadata": {
        "id": "xTvu0eQ1qjGR"
      },
      "outputs": [],
      "source": [
        "#Habría que revisar los valores negativos <- como mucho capear a 0\n",
        "#Preguntar si los valores negativos son reembolsos, y como identificarlos\n",
        "#Clave natural -> Fecha, ubicacion salida y llegada, cantidad de pasajeros\n",
        "#Preguntar al profe"
      ]
    },
    {
      "cell_type": "code",
      "execution_count": 8,
      "metadata": {
        "colab": {
          "base_uri": "https://localhost:8080/",
          "height": 448
        },
        "id": "h0eZ1Osjpldf",
        "outputId": "b7ece59d-5ca8-41d4-f81d-8dfef9357bb7"
      },
      "outputs": [
        {
          "data": {
            "text/plain": [
              "<Axes: >"
            ]
          },
          "execution_count": 8,
          "metadata": {},
          "output_type": "execute_result"
        },
        {
          "data": {
            "image/png": "[encoded data removed]",
            "text/plain": [
              "<Figure size 640x480 with 1 Axes>"
            ]
          },
          "metadata": {},
          "output_type": "display_data"
        }
      ],
      "source": [
        "sns.boxplot(df[['fare_amount']])"
      ]
    },
    {
      "cell_type": "code",
      "execution_count": null,
      "metadata": {
        "id": "uGNNKN8aqrsf"
      },
      "outputs": [],
      "source": [
        ",'pickup_latitude','dropoff_longitude','dropoff_latitude','passenger_count'"
      ]
    },
    {
      "cell_type": "code",
      "execution_count": null,
      "metadata": {
        "id": "SarEdlSOq0KS"
      },
      "outputs": [],
      "source": [
        "#Valores atípicos no representan una coordenada válida, averiguar valores válidos"
      ]
    },
    {
      "cell_type": "code",
      "execution_count": null,
      "metadata": {
        "colab": {
          "base_uri": "https://localhost:8080/",
          "height": 430
        },
        "id": "T7cA4XhBpFFu",
        "outputId": "485e60b3-390b-4611-b1cf-cda27025b2e9"
      },
      "outputs": [
        {
          "data": {
            "text/plain": [
              "<Axes: ylabel='pickup_longitude'>"
            ]
          },
          "execution_count": 22,
          "metadata": {},
          "output_type": "execute_result"
        },
        {
          "data": {
            "image/png": "[encoded data removed]",
            "text/plain": [
              "<Figure size 640x480 with 1 Axes>"
            ]
          },
          "metadata": {},
          "output_type": "display_data"
        }
      ],
      "source": [
        "sns.boxplot(df['pickup_longitude'])"
      ]
    },
    {
      "cell_type": "code",
      "execution_count": null,
      "metadata": {
        "colab": {
          "base_uri": "https://localhost:8080/",
          "height": 429
        },
        "id": "wXfrLqp3q4Kd",
        "outputId": "ecfe590b-f296-4f0e-cfd1-753d0ebf4ff6"
      },
      "outputs": [
        {
          "data": {
            "text/plain": [
              "<Axes: ylabel='pickup_latitude'>"
            ]
          },
          "execution_count": 23,
          "metadata": {},
          "output_type": "execute_result"
        },
        {
          "data": {
            "image/png": "[encoded data removed]",
            "text/plain": [
              "<Figure size 640x480 with 1 Axes>"
            ]
          },
          "metadata": {},
          "output_type": "display_data"
        }
      ],
      "source": [
        "sns.boxplot(df['pickup_latitude'])"
      ]
    },
    {
      "cell_type": "code",
      "execution_count": null,
      "metadata": {
        "colab": {
          "base_uri": "https://localhost:8080/",
          "height": 429
        },
        "id": "Kz5NwqJPrBT3",
        "outputId": "db158efc-6c88-402f-f995-536d50fa72ef"
      },
      "outputs": [
        {
          "data": {
            "text/plain": [
              "<Axes: ylabel='dropoff_latitude'>"
            ]
          },
          "execution_count": 24,
          "metadata": {},
          "output_type": "execute_result"
        },
        {
          "data": {
            "image/png": "[encoded data removed]",
            "text/plain": [
              "<Figure size 640x480 with 1 Axes>"
            ]
          },
          "metadata": {},
          "output_type": "display_data"
        }
      ],
      "source": [
        "sns.boxplot(df['dropoff_latitude'])"
      ]
    },
    {
      "cell_type": "code",
      "execution_count": null,
      "metadata": {
        "colab": {
          "base_uri": "https://localhost:8080/",
          "height": 429
        },
        "id": "6onyPnj9rO0J",
        "outputId": "2ee080a3-ef47-4c3f-b472-0837af2204c3"
      },
      "outputs": [
        {
          "data": {
            "text/plain": [
              "<Axes: ylabel='dropoff_longitude'>"
            ]
          },
          "execution_count": 25,
          "metadata": {},
          "output_type": "execute_result"
        },
        {
          "data": {
            "image/png": "[encoded data removed]",
            "text/plain": [
              "<Figure size 640x480 with 1 Axes>"
            ]
          },
          "metadata": {},
          "output_type": "display_data"
        }
      ],
      "source": [
        "sns.boxplot(df['dropoff_longitude'])"
      ]
    },
    {
      "cell_type": "code",
      "execution_count": null,
      "metadata": {
        "id": "eYrKjlN7rgVv"
      },
      "outputs": [],
      "source": []
    },
    {
      "cell_type": "code",
      "execution_count": null,
      "metadata": {
        "colab": {
          "base_uri": "https://localhost:8080/",
          "height": 429
        },
        "id": "k7bVz-QurZC7",
        "outputId": "27e94b2f-91a2-4fb0-af5e-b0da61116221"
      },
      "outputs": [
        {
          "data": {
            "text/plain": [
              "<Axes: ylabel='passenger_count'>"
            ]
          },
          "execution_count": 29,
          "metadata": {},
          "output_type": "execute_result"
        },
        {
          "data": {
            "image/png": "[encoded data removed]",
            "text/plain": [
              "<Figure size 640x480 with 1 Axes>"
            ]
          },
          "metadata": {},
          "output_type": "display_data"
        }
      ],
      "source": [
        "#208 pasajeros en un viaje - valor atípicos <- no influye en el costo del viaje, capear probablemente.\n",
        "sns.boxplot(df[df['passenger_count'] <= 200]['passenger_count'])"
      ]
    },
    {
      "cell_type": "code",
      "execution_count": 9,
      "metadata": {
        "colab": {
          "base_uri": "https://localhost:8080/",
          "height": 335
        },
        "id": "XQ1MoFyGsDlX",
        "outputId": "049490dc-9b99-4f60-e32a-b52050de455f"
      },
      "outputs": [
        {
          "data": {
            "application/vnd.microsoft.datawrangler.viewer.v0+json": {
              "columns": [
                {
                  "name": "index",
                  "rawType": "object",
                  "type": "string"
                },
                {
                  "name": "passenger_count",
                  "rawType": "float64",
                  "type": "float"
                }
              ],
              "ref": "4ad326c7-adc7-4b07-9e95-722b862ffeb1",
              "rows": [
                [
                  "count",
                  "200000.0"
                ],
                [
                  "mean",
                  "1.684535"
                ],
                [
                  "std",
                  "1.385996550755879"
                ],
                [
                  "min",
                  "0.0"
                ],
                [
                  "25%",
                  "1.0"
                ],
                [
                  "50%",
                  "1.0"
                ],
                [
                  "75%",
                  "2.0"
                ],
                [
                  "max",
                  "208.0"
                ]
              ],
              "shape": {
                "columns": 1,
                "rows": 8
              }
            },
            "text/plain": [
              "count    200000.000000\n",
              "mean          1.684535\n",
              "std           1.385997\n",
              "min           0.000000\n",
              "25%           1.000000\n",
              "50%           1.000000\n",
              "75%           2.000000\n",
              "max         208.000000\n",
              "Name: passenger_count, dtype: float64"
            ]
          },
          "execution_count": 9,
          "metadata": {},
          "output_type": "execute_result"
        }
      ],
      "source": [
        "df['passenger_count'].describe()"
      ]
    },
    {
      "cell_type": "code",
      "execution_count": 10,
      "metadata": {
        "id": "R5wJn1kQsiJr"
      },
      "outputs": [],
      "source": [
        "X_train, X_test, y_train, y_test = train_test_split(df.drop(columns='fare_amount'), df['fare_amount'], test_size=0.2, random_state=42)"
      ]
    },
    {
      "cell_type": "code",
      "execution_count": 11,
      "metadata": {
        "colab": {
          "base_uri": "https://localhost:8080/",
          "height": 300
        },
        "id": "hW-QZN1ysiJr",
        "outputId": "38e14a31-4edf-4aa9-abfb-29b268d773aa"
      },
      "outputs": [
        {
          "data": {
            "application/vnd.microsoft.datawrangler.viewer.v0+json": {
              "columns": [
                {
                  "name": "index",
                  "rawType": "object",
                  "type": "string"
                },
                {
                  "name": "key",
                  "rawType": "float64",
                  "type": "float"
                },
                {
                  "name": "pickup_longitude",
                  "rawType": "float64",
                  "type": "float"
                },
                {
                  "name": "pickup_latitude",
                  "rawType": "float64",
                  "type": "float"
                },
                {
                  "name": "dropoff_longitude",
                  "rawType": "float64",
                  "type": "float"
                },
                {
                  "name": "dropoff_latitude",
                  "rawType": "float64",
                  "type": "float"
                },
                {
                  "name": "passenger_count",
                  "rawType": "float64",
                  "type": "float"
                }
              ],
              "ref": "2ecd7a90-47d4-407c-a78b-309f6714f74a",
              "rows": [
                [
                  "count",
                  "160000.0",
                  "160000.0",
                  "160000.0",
                  "159999.0",
                  "159999.0",
                  "160000.0"
                ],
                [
                  "mean",
                  "27712332.79875625",
                  "-72.52589617695612",
                  "39.93626484197129",
                  "-72.52526015580202",
                  "39.91925762953129",
                  "1.6849875"
                ],
                [
                  "std",
                  "16032178.162628463",
                  "11.557752549149658",
                  "8.090121052047964",
                  "13.611270633953966",
                  "6.880319813582267",
                  "1.4056864780452347"
                ],
                [
                  "min",
                  "1.0",
                  "-1340.64841",
                  "-74.01551500000001",
                  "-3356.6663",
                  "-881.9855130000001",
                  "0.0"
                ],
                [
                  "25%",
                  "13793257.25",
                  "-73.99206225",
                  "40.7348415",
                  "-73.9914325949707",
                  "40.733835",
                  "1.0"
                ],
                [
                  "50%",
                  "27756078.0",
                  "-73.98183399999999",
                  "40.7525935",
                  "-73.98008",
                  "40.753044",
                  "1.0"
                ],
                [
                  "75%",
                  "41558451.75",
                  "-73.9672115",
                  "40.76711613665771",
                  "-73.96361350000001",
                  "40.768055",
                  "2.0"
                ],
                [
                  "max",
                  "55423567.0",
                  "57.418457",
                  "1644.421482",
                  "1153.5726029999998",
                  "872.6976279999999",
                  "208.0"
                ]
              ],
              "shape": {
                "columns": 6,
                "rows": 8
              }
            },
            "text/html": [
              "<div>\n",
              "<style scoped>\n",
              "    .dataframe tbody tr th:only-of-type {\n",
              "        vertical-align: middle;\n",
              "    }\n",
              "\n",
              "    .dataframe tbody tr th {\n",
              "        vertical-align: top;\n",
              "    }\n",
              "\n",
              "    .dataframe thead th {\n",
              "        text-align: right;\n",
              "    }\n",
              "</style>\n",
              "<table border=\"1\" class=\"dataframe\">\n",
              "  <thead>\n",
              "    <tr style=\"text-align: right;\">\n",
              "      <th></th>\n",
              "      <th>key</th>\n",
              "      <th>pickup_longitude</th>\n",
              "      <th>pickup_latitude</th>\n",
              "      <th>dropoff_longitude</th>\n",
              "      <th>dropoff_latitude</th>\n",
              "      <th>passenger_count</th>\n",
              "    </tr>\n",
              "  </thead>\n",
              "  <tbody>\n",
              "    <tr>\n",
              "      <th>count</th>\n",
              "      <td>1.600000e+05</td>\n",
              "      <td>160000.000000</td>\n",
              "      <td>160000.000000</td>\n",
              "      <td>159999.000000</td>\n",
              "      <td>159999.000000</td>\n",
              "      <td>160000.000000</td>\n",
              "    </tr>\n",
              "    <tr>\n",
              "      <th>mean</th>\n",
              "      <td>2.771233e+07</td>\n",
              "      <td>-72.525896</td>\n",
              "      <td>39.936265</td>\n",
              "      <td>-72.525260</td>\n",
              "      <td>39.919258</td>\n",
              "      <td>1.684988</td>\n",
              "    </tr>\n",
              "    <tr>\n",
              "      <th>std</th>\n",
              "      <td>1.603218e+07</td>\n",
              "      <td>11.557753</td>\n",
              "      <td>8.090121</td>\n",
              "      <td>13.611271</td>\n",
              "      <td>6.880320</td>\n",
              "      <td>1.405686</td>\n",
              "    </tr>\n",
              "    <tr>\n",
              "      <th>min</th>\n",
              "      <td>1.000000e+00</td>\n",
              "      <td>-1340.648410</td>\n",
              "      <td>-74.015515</td>\n",
              "      <td>-3356.666300</td>\n",
              "      <td>-881.985513</td>\n",
              "      <td>0.000000</td>\n",
              "    </tr>\n",
              "    <tr>\n",
              "      <th>25%</th>\n",
              "      <td>1.379326e+07</td>\n",
              "      <td>-73.992062</td>\n",
              "      <td>40.734842</td>\n",
              "      <td>-73.991433</td>\n",
              "      <td>40.733835</td>\n",
              "      <td>1.000000</td>\n",
              "    </tr>\n",
              "    <tr>\n",
              "      <th>50%</th>\n",
              "      <td>2.775608e+07</td>\n",
              "      <td>-73.981834</td>\n",
              "      <td>40.752594</td>\n",
              "      <td>-73.980080</td>\n",
              "      <td>40.753044</td>\n",
              "      <td>1.000000</td>\n",
              "    </tr>\n",
              "    <tr>\n",
              "      <th>75%</th>\n",
              "      <td>4.155845e+07</td>\n",
              "      <td>-73.967212</td>\n",
              "      <td>40.767116</td>\n",
              "      <td>-73.963614</td>\n",
              "      <td>40.768055</td>\n",
              "      <td>2.000000</td>\n",
              "    </tr>\n",
              "    <tr>\n",
              "      <th>max</th>\n",
              "      <td>5.542357e+07</td>\n",
              "      <td>57.418457</td>\n",
              "      <td>1644.421482</td>\n",
              "      <td>1153.572603</td>\n",
              "      <td>872.697628</td>\n",
              "      <td>208.000000</td>\n",
              "    </tr>\n",
              "  </tbody>\n",
              "</table>\n",
              "</div>"
            ],
            "text/plain": [
              "                key  pickup_longitude  pickup_latitude  dropoff_longitude  \\\n",
              "count  1.600000e+05     160000.000000    160000.000000      159999.000000   \n",
              "mean   2.771233e+07        -72.525896        39.936265         -72.525260   \n",
              "std    1.603218e+07         11.557753         8.090121          13.611271   \n",
              "min    1.000000e+00      -1340.648410       -74.015515       -3356.666300   \n",
              "25%    1.379326e+07        -73.992062        40.734842         -73.991433   \n",
              "50%    2.775608e+07        -73.981834        40.752594         -73.980080   \n",
              "75%    4.155845e+07        -73.967212        40.767116         -73.963614   \n",
              "max    5.542357e+07         57.418457      1644.421482        1153.572603   \n",
              "\n",
              "       dropoff_latitude  passenger_count  \n",
              "count     159999.000000    160000.000000  \n",
              "mean          39.919258         1.684988  \n",
              "std            6.880320         1.405686  \n",
              "min         -881.985513         0.000000  \n",
              "25%           40.733835         1.000000  \n",
              "50%           40.753044         1.000000  \n",
              "75%           40.768055         2.000000  \n",
              "max          872.697628       208.000000  "
            ]
          },
          "execution_count": 11,
          "metadata": {},
          "output_type": "execute_result"
        }
      ],
      "source": [
        "X_train.describe()"
      ]
    },
    {
      "cell_type": "code",
      "execution_count": 12,
      "metadata": {},
      "outputs": [
        {
          "data": {
            "application/vnd.microsoft.datawrangler.viewer.v0+json": {
              "columns": [
                {
                  "name": "index",
                  "rawType": "object",
                  "type": "string"
                },
                {
                  "name": "key",
                  "rawType": "float64",
                  "type": "float"
                },
                {
                  "name": "pickup_longitude",
                  "rawType": "float64",
                  "type": "float"
                },
                {
                  "name": "pickup_latitude",
                  "rawType": "float64",
                  "type": "float"
                },
                {
                  "name": "dropoff_longitude",
                  "rawType": "float64",
                  "type": "float"
                },
                {
                  "name": "dropoff_latitude",
                  "rawType": "float64",
                  "type": "float"
                },
                {
                  "name": "passenger_count",
                  "rawType": "float64",
                  "type": "float"
                }
              ],
              "ref": "3ebdf02b-43de-4a22-bfd7-b1151662bc85",
              "rows": [
                [
                  "count",
                  "40000.0",
                  "40000.0",
                  "40000.0",
                  "40000.0",
                  "40000.0",
                  "40000.0"
                ],
                [
                  "mean",
                  "27713187.216725",
                  "-72.53460487336142",
                  "39.93436752217653",
                  "-72.5254175133759",
                  "39.94242137521867",
                  "1.682725"
                ],
                [
                  "std",
                  "15940386.735821413",
                  "10.944922255558286",
                  "6.019506476516206",
                  "10.921026635575657",
                  "6.441580432636283",
                  "1.3042829843356774"
                ],
                [
                  "min",
                  "243.0",
                  "-768.55",
                  "-74.009697",
                  "-737.9166650000001",
                  "-74.009465",
                  "0.0"
                ],
                [
                  "25%",
                  "13983690.5",
                  "-73.99207301477051",
                  "40.734645",
                  "-73.9913235",
                  "40.73376225",
                  "1.0"
                ],
                [
                  "50%",
                  "27700567.0",
                  "-73.98178150292969",
                  "40.752588",
                  "-73.980148",
                  "40.75304015686035",
                  "1.0"
                ],
                [
                  "75%",
                  "41536007.25",
                  "-73.9669418334961",
                  "40.767323",
                  "-73.96386075",
                  "40.767799249999996",
                  "2.0"
                ],
                [
                  "max",
                  "55422902.0",
                  "40.803672",
                  "48.01876",
                  "40.828672",
                  "493.533332",
                  "6.0"
                ]
              ],
              "shape": {
                "columns": 6,
                "rows": 8
              }
            },
            "text/html": [
              "<div>\n",
              "<style scoped>\n",
              "    .dataframe tbody tr th:only-of-type {\n",
              "        vertical-align: middle;\n",
              "    }\n",
              "\n",
              "    .dataframe tbody tr th {\n",
              "        vertical-align: top;\n",
              "    }\n",
              "\n",
              "    .dataframe thead th {\n",
              "        text-align: right;\n",
              "    }\n",
              "</style>\n",
              "<table border=\"1\" class=\"dataframe\">\n",
              "  <thead>\n",
              "    <tr style=\"text-align: right;\">\n",
              "      <th></th>\n",
              "      <th>key</th>\n",
              "      <th>pickup_longitude</th>\n",
              "      <th>pickup_latitude</th>\n",
              "      <th>dropoff_longitude</th>\n",
              "      <th>dropoff_latitude</th>\n",
              "      <th>passenger_count</th>\n",
              "    </tr>\n",
              "  </thead>\n",
              "  <tbody>\n",
              "    <tr>\n",
              "      <th>count</th>\n",
              "      <td>4.000000e+04</td>\n",
              "      <td>40000.000000</td>\n",
              "      <td>40000.000000</td>\n",
              "      <td>40000.000000</td>\n",
              "      <td>40000.000000</td>\n",
              "      <td>40000.000000</td>\n",
              "    </tr>\n",
              "    <tr>\n",
              "      <th>mean</th>\n",
              "      <td>2.771319e+07</td>\n",
              "      <td>-72.534605</td>\n",
              "      <td>39.934368</td>\n",
              "      <td>-72.525418</td>\n",
              "      <td>39.942421</td>\n",
              "      <td>1.682725</td>\n",
              "    </tr>\n",
              "    <tr>\n",
              "      <th>std</th>\n",
              "      <td>1.594039e+07</td>\n",
              "      <td>10.944922</td>\n",
              "      <td>6.019506</td>\n",
              "      <td>10.921027</td>\n",
              "      <td>6.441580</td>\n",
              "      <td>1.304283</td>\n",
              "    </tr>\n",
              "    <tr>\n",
              "      <th>min</th>\n",
              "      <td>2.430000e+02</td>\n",
              "      <td>-768.550000</td>\n",
              "      <td>-74.009697</td>\n",
              "      <td>-737.916665</td>\n",
              "      <td>-74.009465</td>\n",
              "      <td>0.000000</td>\n",
              "    </tr>\n",
              "    <tr>\n",
              "      <th>25%</th>\n",
              "      <td>1.398369e+07</td>\n",
              "      <td>-73.992073</td>\n",
              "      <td>40.734645</td>\n",
              "      <td>-73.991323</td>\n",
              "      <td>40.733762</td>\n",
              "      <td>1.000000</td>\n",
              "    </tr>\n",
              "    <tr>\n",
              "      <th>50%</th>\n",
              "      <td>2.770057e+07</td>\n",
              "      <td>-73.981782</td>\n",
              "      <td>40.752588</td>\n",
              "      <td>-73.980148</td>\n",
              "      <td>40.753040</td>\n",
              "      <td>1.000000</td>\n",
              "    </tr>\n",
              "    <tr>\n",
              "      <th>75%</th>\n",
              "      <td>4.153601e+07</td>\n",
              "      <td>-73.966942</td>\n",
              "      <td>40.767323</td>\n",
              "      <td>-73.963861</td>\n",
              "      <td>40.767799</td>\n",
              "      <td>2.000000</td>\n",
              "    </tr>\n",
              "    <tr>\n",
              "      <th>max</th>\n",
              "      <td>5.542290e+07</td>\n",
              "      <td>40.803672</td>\n",
              "      <td>48.018760</td>\n",
              "      <td>40.828672</td>\n",
              "      <td>493.533332</td>\n",
              "      <td>6.000000</td>\n",
              "    </tr>\n",
              "  </tbody>\n",
              "</table>\n",
              "</div>"
            ],
            "text/plain": [
              "                key  pickup_longitude  pickup_latitude  dropoff_longitude  \\\n",
              "count  4.000000e+04      40000.000000     40000.000000       40000.000000   \n",
              "mean   2.771319e+07        -72.534605        39.934368         -72.525418   \n",
              "std    1.594039e+07         10.944922         6.019506          10.921027   \n",
              "min    2.430000e+02       -768.550000       -74.009697        -737.916665   \n",
              "25%    1.398369e+07        -73.992073        40.734645         -73.991323   \n",
              "50%    2.770057e+07        -73.981782        40.752588         -73.980148   \n",
              "75%    4.153601e+07        -73.966942        40.767323         -73.963861   \n",
              "max    5.542290e+07         40.803672        48.018760          40.828672   \n",
              "\n",
              "       dropoff_latitude  passenger_count  \n",
              "count      40000.000000     40000.000000  \n",
              "mean          39.942421         1.682725  \n",
              "std            6.441580         1.304283  \n",
              "min          -74.009465         0.000000  \n",
              "25%           40.733762         1.000000  \n",
              "50%           40.753040         1.000000  \n",
              "75%           40.767799         2.000000  \n",
              "max          493.533332         6.000000  "
            ]
          },
          "execution_count": 12,
          "metadata": {},
          "output_type": "execute_result"
        }
      ],
      "source": [
        "X_test.describe()"
      ]
    }
  ],
  "metadata": {
    "colab": {
      "provenance": []
    },
    "kernelspec": {
      "display_name": ".venv",
      "language": "python",
      "name": "python3"
    },
    "language_info": {
      "codemirror_mode": {
        "name": "ipython",
        "version": 3
      },
      "file_extension": ".py",
      "mimetype": "text/x-python",
      "name": "python",
      "nbconvert_exporter": "python",
      "pygments_lexer": "ipython3",
      "version": "3.13.1"
    },
    "orig_nbformat": 4
  },
  "nbformat": 4,
  "nbformat_minor": 0
}
